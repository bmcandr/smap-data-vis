{
 "cells": [
  {
   "cell_type": "markdown",
   "metadata": {},
   "source": [
    "# Downloading SMAP data"
   ]
  },
  {
   "cell_type": "code",
   "execution_count": 1,
   "metadata": {},
   "outputs": [],
   "source": [
    "import calendar, os, requests"
   ]
  },
  {
   "cell_type": "code",
   "execution_count": 2,
   "metadata": {},
   "outputs": [],
   "source": [
    "DATA_DIR = os.path.join('..', 'data')\n",
    "DOWNLOAD_DIR = os.path.join(DATA_DIR, 'downloads')\n",
    "SMAP_DIR = os.path.join(DOWNLOAD_DIR, 'SPL3SMP_E')"
   ]
  },
  {
   "cell_type": "code",
   "execution_count": 24,
   "metadata": {},
   "outputs": [],
   "source": [
    "def SMAP_L3_E_9km_Path(year, month, day):\n",
    "    host = 'https://n5eil01u.ecs.nsidc.org'\n",
    "    version = '.003'\n",
    "    url_path = f'{host}/SMAP/SPL3SMP_E{version}/{year}.{month:02}.{day:02}/'\n",
    "    filename = f'SMAP_L3_SM_P_E_{year}{month:02}{day:02}_R16510_001.h5'\n",
    "    qa_filename = f'{filename[:-3]}.qa'\n",
    "    \n",
    "    smap_data_path = url_path + filename\n",
    "    smap_qa_data_path = url_path + qa_filename\n",
    "    \n",
    "    return smap_data_path, filename, smap_qa_data_path, qa_filename"
   ]
  },
  {
   "cell_type": "code",
   "execution_count": 21,
   "metadata": {},
   "outputs": [
    {
     "data": {
      "text/plain": [
       "('https://n5eil01u.ecs.nsidc.org/SMAP/SPL3SMP_E.003/2017.03.01/SMAP_L3_SM_P_E_20170301_R16515_001.h5',\n",
       " 'SMAP_L3_SM_P_E_20170301_R16515_001.h5',\n",
       " 'https://n5eil01u.ecs.nsidc.org/SMAP/SPL3SMP_E.003/2017.03.01/SMAP_L3_SM_P_E_20170301_R16515_001.qa',\n",
       " 'SMAP_L3_SM_P_E_20170301_R16515_001.qa')"
      ]
     },
     "execution_count": 21,
     "metadata": {},
     "output_type": "execute_result"
    }
   ],
   "source": [
    "SMAP_L3_E_9km_Path(2019, 8, 1)"
   ]
  },
  {
   "cell_type": "code",
   "execution_count": null,
   "metadata": {},
   "outputs": [],
   "source": [
    "https://n5eil01u.ecs.nsidc.org/SMAP/SPL3SMP_E.003/2017.03.01/SMAP_L3_SM_P_E_20170301_R16510_001.h5\n",
    "https://n5eil01u.ecs.nsidc.org/SMAP/SPL3SMP_E.003/2017.03.01/SMAP_L3_SM_P_E_20170301_R16515_001.h5"
   ]
  },
  {
   "cell_type": "code",
   "execution_count": 27,
   "metadata": {},
   "outputs": [
    {
     "name": "stdout",
     "output_type": "stream",
     "text": [
      "Username:   \n",
      "Password:   \n"
     ]
    }
   ],
   "source": [
    "username = input('Username: ')\n",
    "password = input('Password: ')"
   ]
  },
  {
   "cell_type": "code",
   "execution_count": 26,
   "metadata": {},
   "outputs": [
    {
     "name": "stdout",
     "output_type": "stream",
     "text": [
      "Downloading SMAP data for: 2019-08-01\n",
      "https://n5eil01u.ecs.nsidc.org/SMAP/SPL3SMP_E.003/2019.08.01/SMAP_L3_SM_P_E_20190801_R16510_001.h5\n"
     ]
    },
    {
     "ename": "NameError",
     "evalue": "name 'file_name' is not defined",
     "output_type": "error",
     "traceback": [
      "\u001b[0;31m---------------------------------------------------------------------------\u001b[0m",
      "\u001b[0;31mNameError\u001b[0m                                 Traceback (most recent call last)",
      "\u001b[0;32m<ipython-input-26-568430bca53b>\u001b[0m in \u001b[0;36m<module>\u001b[0;34m\u001b[0m\n\u001b[1;32m     38\u001b[0m             \u001b[0mf\u001b[0m\u001b[0;34m.\u001b[0m\u001b[0mwrite\u001b[0m\u001b[0;34m(\u001b[0m\u001b[0mresponse\u001b[0m\u001b[0;34m.\u001b[0m\u001b[0mcontent\u001b[0m\u001b[0;34m)\u001b[0m\u001b[0;34m\u001b[0m\u001b[0;34m\u001b[0m\u001b[0m\n\u001b[1;32m     39\u001b[0m \u001b[0;34m\u001b[0m\u001b[0m\n\u001b[0;32m---> 40\u001b[0;31m         \u001b[0mprint\u001b[0m\u001b[0;34m(\u001b[0m\u001b[0mfile_name\u001b[0m \u001b[0;34m+\u001b[0m \u001b[0;34m' downloaded'\u001b[0m\u001b[0;34m)\u001b[0m\u001b[0;34m\u001b[0m\u001b[0;34m\u001b[0m\u001b[0m\n\u001b[0m\u001b[1;32m     41\u001b[0m         \u001b[0mprint\u001b[0m\u001b[0;34m(\u001b[0m\u001b[0;34m'*** SM data saved to: '\u001b[0m\u001b[0;34m+\u001b[0m \u001b[0mfilepath\u001b[0m \u001b[0;34m+\u001b[0m\u001b[0;34m' *** '\u001b[0m\u001b[0;34m)\u001b[0m\u001b[0;34m\u001b[0m\u001b[0;34m\u001b[0m\u001b[0m\n",
      "\u001b[0;31mNameError\u001b[0m: name 'file_name' is not defined"
     ]
    }
   ],
   "source": [
    "year = 2019\n",
    "month = 8\n",
    "_, days_in_month = calendar.monthrange(year, month)\n",
    "\n",
    "# Use a requests session to keep track of authentication credentials\n",
    "with requests.Session() as session:\n",
    "    session.auth = (username, password)\n",
    "    \n",
    "    for day in range(1, 2):\n",
    "        print('Downloading SMAP data for: '+str(year)+'-'+str(month).zfill(2)+'-'+str(day).zfill(2))\n",
    "        \n",
    "        date_dir = os.path.join(SMAP_DIR, f'{year}.{month:02}.{day:02}')\n",
    "        \n",
    "        if not os.path.exists(date_dir):\n",
    "            os.mkdir(date_dir)\n",
    "        \n",
    "        data_path, filename, qa_path, qa_filename = SMAP_L3_E_9km_Path(year, month, day)\n",
    "        filepath = os.path.join(date_dir, filename)\n",
    "        qa_filepath = os.path.join(date_dir, qa_filename)d\n",
    "\n",
    "        print(data_path)\n",
    "        response = session.get(data_path)\n",
    "        # If the response code is 401, we still need to authorize with earthdata.\n",
    "        if response.status_code == 401:\n",
    "            response = session.get(response.url)\n",
    "        assert response.ok, 'Problem downloading data! Reason: {}'.format(response.reason)\n",
    "\n",
    "        with open(filepath, 'wb') as f:\n",
    "            f.write(response.content)\n",
    "            \n",
    "        response = session.get(qa_path)\n",
    "        # If the response code is 401, we still need to authorize with earthdata.\n",
    "        if response.status_code == 401:\n",
    "            response = session.get(response.url)\n",
    "        assert response.ok, 'Problem downloading data! Reason: {}'.format(response.reason)\n",
    "        \n",
    "        with open(qa_filepath, 'wb') as f:\n",
    "            f.write(response.content)\n",
    "\n",
    "        print(file_name + ' downloaded')\n",
    "        print('*** SM data saved to: '+ filepath +' *** ')"
   ]
  },
  {
   "cell_type": "code",
   "execution_count": null,
   "metadata": {},
   "outputs": [],
   "source": []
  },
  {
   "cell_type": "code",
   "execution_count": null,
   "metadata": {},
   "outputs": [],
   "source": []
  }
 ],
 "metadata": {
  "kernelspec": {
   "display_name": "Python 3",
   "language": "python",
   "name": "python3"
  },
  "language_info": {
   "codemirror_mode": {
    "name": "ipython",
    "version": 3
   },
   "file_extension": ".py",
   "mimetype": "text/x-python",
   "name": "python",
   "nbconvert_exporter": "python",
   "pygments_lexer": "ipython3",
   "version": "3.8.2"
  }
 },
 "nbformat": 4,
 "nbformat_minor": 4
}
